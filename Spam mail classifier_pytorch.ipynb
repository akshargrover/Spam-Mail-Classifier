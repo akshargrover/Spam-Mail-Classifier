{
 "cells": [
  {
   "cell_type": "markdown",
   "metadata": {},
   "source": [
    "importing the required libraries and data pre processing "
   ]
  },
  {
   "cell_type": "code",
   "execution_count": 1,
   "metadata": {},
   "outputs": [],
   "source": [
    "import numpy as np\n",
    "import pandas as pd\n",
    "import torch\n",
    "from sklearn.model_selection import train_test_split\n",
    "from sklearn.feature_extraction.text import TfidfVectorizer\n",
    "import torch.nn as nn\n",
    "from torch.utils.data import Dataset, DataLoader\n"
   ]
  },
  {
   "cell_type": "code",
   "execution_count": 2,
   "metadata": {},
   "outputs": [
    {
     "name": "stdout",
     "output_type": "stream",
     "text": [
      "Training data shape: torch.Size([4457, 7431])\n",
      "Testing data shape: torch.Size([1115, 7431])\n"
     ]
    }
   ],
   "source": [
    "\n",
    "\n",
    "def preprocess_data():\n",
    "    # Load and preprocess the data\n",
    "    raw_mail_data = pd.read_csv(\"mail_data.csv\")\n",
    "    mail_data = raw_mail_data.where((pd.notnull(raw_mail_data)), '')\n",
    "\n",
    "    # Label spam mails as 0 and ham mails as 1\n",
    "    mail_data.loc[mail_data['Category']=='spam','Category'] = 0\n",
    "    mail_data.loc[mail_data['Category']=='ham','Category'] = 1\n",
    "\n",
    "    # Convert Category column to numeric type\n",
    "    mail_data['Category'] = pd.to_numeric(mail_data['Category'])\n",
    "\n",
    "    # Separate the data as text and labels\n",
    "    X = mail_data['Message']\n",
    "    Y = mail_data['Category']\n",
    "\n",
    "    # Split the data into training and testing sets\n",
    "    X_train, X_test, Y_train, Y_test = train_test_split(X, Y, test_size=0.2, random_state=3)\n",
    "\n",
    "    # Convert text data to feature vectors\n",
    "    feature_extraction = TfidfVectorizer(min_df=1, stop_words='english', lowercase=True)\n",
    "    X_train_features = feature_extraction.fit_transform(X_train)\n",
    "    X_test_features = feature_extraction.transform(X_test)\n",
    "\n",
    "    # Convert to PyTorch tensors\n",
    "    X_train_tensor = torch.FloatTensor(X_train_features.toarray())\n",
    "    Y_train_tensor = torch.FloatTensor(Y_train.values).view(-1, 1)\n",
    "    X_test_tensor = torch.FloatTensor(X_test_features.toarray())\n",
    "    Y_test_tensor = torch.FloatTensor(Y_test.values).view(-1, 1)\n",
    "\n",
    "    print(f\"Training data shape: {X_train_tensor.shape}\")\n",
    "    print(f\"Testing data shape: {X_test_tensor.shape}\")\n",
    "\n",
    "    return X_train_tensor, Y_train_tensor, X_test_tensor, Y_test_tensor, feature_extraction\n",
    "\n",
    "if __name__ == \"__main__\":\n",
    "    X_train, Y_train, X_test, Y_test, feature_extractor = preprocess_data() "
   ]
  },
  {
   "cell_type": "markdown",
   "metadata": {},
   "source": [
    "# Creating the model "
   ]
  },
  {
   "cell_type": "code",
   "execution_count": 3,
   "metadata": {},
   "outputs": [],
   "source": [
    "\n",
    "\n",
    "class MailDataset(Dataset):\n",
    "    def __init__(self, features, labels):\n",
    "        self.features = features\n",
    "        self.labels = labels\n",
    "    \n",
    "    def __len__(self):\n",
    "        return len(self.features)\n",
    "    \n",
    "    def __getitem__(self, idx):\n",
    "        return self.features[idx], self.labels[idx]\n",
    "\n",
    "class SpamClassifier(nn.Module):\n",
    "    def __init__(self, input_size):\n",
    "        super(SpamClassifier, self).__init__()\n",
    "        self.network = nn.Sequential(\n",
    "            nn.Linear(input_size, 512),  # First hidden layer\n",
    "            nn.ReLU(),                   # Activation function\n",
    "            nn.Dropout(0.3),            # Dropout for regularization\n",
    "            nn.Linear(512, 256),        # Second hidden layer\n",
    "            nn.ReLU(),                   # Activation function\n",
    "            nn.Dropout(0.2),            # Dropout for regularization\n",
    "            nn.Linear(256, 128),        # Third hidden layer\n",
    "            nn.ReLU(),                   # Activation function\n",
    "            nn.Dropout(0.1),            # Dropout for regularization\n",
    "            nn.Linear(128, 1),          # Output layer\n",
    "            nn.Sigmoid()                # Sigmoid activation for binary classification\n",
    "        )\n",
    "    \n",
    "    def forward(self, x):\n",
    "        return self.network(x)\n",
    "\n",
    "def create_dataloaders(X_train, Y_train, X_test, Y_test, batch_size=32):\n",
    "    # Create datasets\n",
    "    train_dataset = MailDataset(X_train, Y_train)\n",
    "    test_dataset = MailDataset(X_test, Y_test)\n",
    "    \n",
    "    # Create dataloaders\n",
    "    train_loader = DataLoader(train_dataset, batch_size=batch_size, shuffle=True)\n",
    "    test_loader = DataLoader(test_dataset, batch_size=batch_size, shuffle=False)\n",
    "    \n",
    "    return train_loader, test_loader\n",
    "\n",
    "def initialize_model(input_size):\n",
    "    model = SpamClassifier(input_size)\n",
    "    criterion = nn.BCELoss()\n",
    "    optimizer = torch.optim.Adam(model.parameters(), lr=0.001)\n",
    "    \n",
    "    return model, criterion, optimizer "
   ]
  },
  {
   "cell_type": "markdown",
   "metadata": {},
   "source": [
    "# Training the model"
   ]
  },
  {
   "cell_type": "code",
   "execution_count": 4,
   "metadata": {},
   "outputs": [
    {
     "name": "stdout",
     "output_type": "stream",
     "text": [
      "Training data shape: torch.Size([4457, 7431])\n",
      "Testing data shape: torch.Size([1115, 7431])\n",
      "Training on device: cpu\n",
      "Epoch [1/10], Batch [100/140], Loss: 0.0954, Accuracy: 87.34%\n",
      "Epoch [1/10], Loss: 0.2262, Accuracy: 90.26%\n",
      "--------------------------------------------------\n",
      "Epoch [2/10], Batch [100/140], Loss: 0.0013, Accuracy: 99.00%\n",
      "Epoch [2/10], Loss: 0.0311, Accuracy: 99.10%\n",
      "--------------------------------------------------\n",
      "Epoch [3/10], Batch [100/140], Loss: 0.0007, Accuracy: 99.66%\n",
      "Epoch [3/10], Loss: 0.0071, Accuracy: 99.71%\n",
      "--------------------------------------------------\n",
      "Epoch [4/10], Batch [100/140], Loss: 0.0001, Accuracy: 99.97%\n",
      "Epoch [4/10], Loss: 0.0027, Accuracy: 99.96%\n",
      "--------------------------------------------------\n",
      "Epoch [5/10], Batch [100/140], Loss: 0.0003, Accuracy: 99.97%\n",
      "Epoch [5/10], Loss: 0.0015, Accuracy: 99.96%\n",
      "--------------------------------------------------\n",
      "Epoch [6/10], Batch [100/140], Loss: 0.0000, Accuracy: 100.00%\n",
      "Epoch [6/10], Loss: 0.0009, Accuracy: 99.98%\n",
      "--------------------------------------------------\n",
      "Epoch [7/10], Batch [100/140], Loss: 0.0000, Accuracy: 100.00%\n",
      "Epoch [7/10], Loss: 0.0005, Accuracy: 99.98%\n",
      "--------------------------------------------------\n",
      "Epoch [8/10], Batch [100/140], Loss: 0.0000, Accuracy: 100.00%\n",
      "Epoch [8/10], Loss: 0.0002, Accuracy: 100.00%\n",
      "--------------------------------------------------\n",
      "Epoch [9/10], Batch [100/140], Loss: 0.0000, Accuracy: 100.00%\n",
      "Epoch [9/10], Loss: 0.0000, Accuracy: 100.00%\n",
      "--------------------------------------------------\n",
      "Epoch [10/10], Batch [100/140], Loss: 0.0000, Accuracy: 100.00%\n",
      "Epoch [10/10], Loss: 0.0000, Accuracy: 100.00%\n",
      "--------------------------------------------------\n"
     ]
    }
   ],
   "source": [
    "\n",
    "\n",
    "\n",
    "def train_model(num_epochs=10, batch_size=32):\n",
    "    # Preprocess data\n",
    "    X_train, Y_train, X_test, Y_test, feature_extractor = preprocess_data()\n",
    "    \n",
    "    # Create dataloaders\n",
    "    train_loader, test_loader = create_dataloaders(X_train, Y_train, X_test, Y_test, batch_size)\n",
    "    \n",
    "    # Initialize model\n",
    "    input_size = X_train.shape[1]\n",
    "    model, criterion, optimizer = initialize_model(input_size)\n",
    "    \n",
    "    # Set device\n",
    "    device = torch.device('cuda' if torch.cuda.is_available() else 'cpu')\n",
    "    model = model.to(device)\n",
    "    \n",
    "    print(f\"Training on device: {device}\")\n",
    "    \n",
    "    # Training loop\n",
    "    for epoch in range(num_epochs):\n",
    "        model.train()\n",
    "        running_loss = 0.0\n",
    "        correct = 0\n",
    "        total = 0\n",
    "        \n",
    "        for batch_idx, (features, labels) in enumerate(train_loader):\n",
    "            features, labels = features.to(device), labels.to(device)\n",
    "            \n",
    "            # Forward pass\n",
    "            outputs = model(features)\n",
    "            loss = criterion(outputs, labels)\n",
    "            \n",
    "            # Backward pass and optimize\n",
    "            optimizer.zero_grad()\n",
    "            loss.backward()\n",
    "            optimizer.step()\n",
    "            \n",
    "            running_loss += loss.item()\n",
    "            predicted = (outputs > 0.5).float()\n",
    "            total += labels.size(0)\n",
    "            correct += (predicted == labels).sum().item()\n",
    "            \n",
    "            # Print progress every 100 batches\n",
    "            if (batch_idx + 1) % 100 == 0:\n",
    "                print(f'Epoch [{epoch+1}/{num_epochs}], Batch [{batch_idx+1}/{len(train_loader)}], '\n",
    "                      f'Loss: {loss.item():.4f}, Accuracy: {100 * correct / total:.2f}%')\n",
    "        \n",
    "        epoch_loss = running_loss / len(train_loader)\n",
    "        epoch_acc = 100 * correct / total\n",
    "        print(f'Epoch [{epoch+1}/{num_epochs}], Loss: {epoch_loss:.4f}, Accuracy: {epoch_acc:.2f}%')\n",
    "        print('-' * 50)\n",
    "    \n",
    "    # Save the model\n",
    "    torch.save({\n",
    "        'model_state_dict': model.state_dict(),\n",
    "        'optimizer_state_dict': optimizer.state_dict(),\n",
    "        'feature_extractor': feature_extractor\n",
    "    }, 'spam_classifier.pth')\n",
    "    \n",
    "    return model, feature_extractor\n",
    "\n",
    "if __name__ == \"__main__\":\n",
    "    model, feature_extractor = train_model() "
   ]
  },
  {
   "cell_type": "markdown",
   "metadata": {},
   "source": [
    "# Predictions "
   ]
  },
  {
   "cell_type": "code",
   "execution_count": 5,
   "metadata": {},
   "outputs": [
    {
     "name": "stdout",
     "output_type": "stream",
     "text": [
      "Training data shape: torch.Size([4457, 7431])\n",
      "Testing data shape: torch.Size([1115, 7431])\n"
     ]
    },
    {
     "name": "stderr",
     "output_type": "stream",
     "text": [
      "C:\\Users\\aksha\\AppData\\Local\\Temp\\ipykernel_27380\\2087269419.py:32: FutureWarning: You are using `torch.load` with `weights_only=False` (the current default value), which uses the default pickle module implicitly. It is possible to construct malicious pickle data which will execute arbitrary code during unpickling (See https://github.com/pytorch/pytorch/blob/main/SECURITY.md#untrusted-models for more details). In a future release, the default value for `weights_only` will be flipped to `True`. This limits the functions that could be executed during unpickling. Arbitrary objects will no longer be allowed to be loaded via this mode unless they are explicitly allowlisted by the user via `torch.serialization.add_safe_globals`. We recommend you start setting `weights_only=True` for any use case where you don't have full control of the loaded file. Please open an issue on GitHub for any issues related to this experimental feature.\n",
      "  checkpoint = torch.load(model_path)\n"
     ]
    },
    {
     "name": "stdout",
     "output_type": "stream",
     "text": [
      "Training data shape: torch.Size([4457, 7431])\n",
      "Testing data shape: torch.Size([1115, 7431])\n",
      "Test Accuracy: 98.39%\n"
     ]
    }
   ],
   "source": [
    "\n",
    "def evaluate_model(model, test_loader, device):\n",
    "    model.eval()\n",
    "    correct = 0\n",
    "    total = 0\n",
    "    \n",
    "    with torch.no_grad():\n",
    "        for features, labels in test_loader:\n",
    "            features, labels = features.to(device), labels.to(device)\n",
    "            outputs = model(features)\n",
    "            predicted = (outputs > 0.5).float()\n",
    "            total += labels.size(0)\n",
    "            correct += (predicted == labels).sum().item()\n",
    "    \n",
    "    accuracy = 100 * correct / total\n",
    "    print(f'Test Accuracy: {accuracy:.2f}%')\n",
    "    return accuracy\n",
    "\n",
    "def predict_mail(text, model, feature_extractor, device):\n",
    "    # Convert text to feature vector\n",
    "    input_features = feature_extractor.transform([text])\n",
    "    input_tensor = torch.FloatTensor(input_features.toarray()).to(device)\n",
    "    \n",
    "    # Make prediction\n",
    "    model.eval()\n",
    "    with torch.no_grad():\n",
    "        output = model(input_tensor)\n",
    "        prediction = (output > 0.5).float()\n",
    "    \n",
    "    return 'Ham mail' if prediction.item() == 1 else 'Spam mail'\n",
    "\n",
    "def load_model(model_path, input_size):\n",
    "    checkpoint = torch.load(model_path)\n",
    "    model = SpamClassifier(input_size)\n",
    "    model.load_state_dict(checkpoint['model_state_dict'])\n",
    "    feature_extractor = checkpoint['feature_extractor']\n",
    "    return model, feature_extractor\n",
    "\n",
    "if __name__ == \"__main__\":\n",
    "    # Load or train the model\n",
    "    try:\n",
    "        # Try to load the saved model\n",
    "        X_train, _, _, _, _ = preprocess_data()\n",
    "        model, feature_extractor = load_model('spam_classifier.pth', X_train.shape[1])\n",
    "    except:\n",
    "        # If no saved model exists, train a new one\n",
    "        print(\"No saved model found. Training a new model...\")\n",
    "        model, feature_extractor = train_model()\n",
    "    \n",
    "    # Set device\n",
    "    device = torch.device('cuda' if torch.cuda.is_available() else 'cpu')\n",
    "    model = model.to(device)\n",
    "    \n",
    "    \n",
    "    # You can also evaluate the model on the test set\n",
    "    _, _, X_test, Y_test, _ = preprocess_data()\n",
    "    test_loader = torch.utils.data.DataLoader(\n",
    "        torch.utils.data.TensorDataset(X_test, Y_test),\n",
    "        batch_size=32,\n",
    "        shuffle=False\n",
    "    )\n",
    "    evaluate_model(model, test_loader, device) "
   ]
  },
  {
   "cell_type": "code",
   "execution_count": 6,
   "metadata": {},
   "outputs": [
    {
     "name": "stdout",
     "output_type": "stream",
     "text": [
      "Prediction for test mail: Spam mail\n"
     ]
    }
   ],
   "source": [
    "test_mail = 'REMINDER FROM O2: To get 2.50 pounds free call credit and details of great offers pls reply 2 this text with your valid name, house no and postcode'\n",
    "result = predict_mail(test_mail, model, feature_extractor, device)\n",
    "print(f\"Prediction for test mail: {result}\")"
   ]
  },
  {
   "cell_type": "code",
   "execution_count": null,
   "metadata": {},
   "outputs": [],
   "source": []
  }
 ],
 "metadata": {
  "kernelspec": {
   "display_name": "Python 3",
   "language": "python",
   "name": "python3"
  },
  "language_info": {
   "codemirror_mode": {
    "name": "ipython",
    "version": 3
   },
   "file_extension": ".py",
   "mimetype": "text/x-python",
   "name": "python",
   "nbconvert_exporter": "python",
   "pygments_lexer": "ipython3",
   "version": "3.12.9"
  }
 },
 "nbformat": 4,
 "nbformat_minor": 2
}
